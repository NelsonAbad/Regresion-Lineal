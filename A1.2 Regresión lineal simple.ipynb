{
 "cells": [
  {
   "cell_type": "markdown",
   "id": "53d0e47c-b156-4745-8a57-5f014d589f6e",
   "metadata": {},
   "source": [
    "Con uso de la libreria de `pandas`, importamos la base de datos `A1.2 Felicidad y GDP` para continar con nuestro analisis. A continuacion se muestran los 10 primeros paises con indices de felicidad mas grandes. "
   ]
  },
  {
   "cell_type": "code",
   "execution_count": 62,
   "id": "220c740c-7c0f-46ff-8d75-0314fef5bb02",
   "metadata": {},
   "outputs": [
    {
     "data": {
      "text/html": [
       "<div>\n",
       "<style scoped>\n",
       "    .dataframe tbody tr th:only-of-type {\n",
       "        vertical-align: middle;\n",
       "    }\n",
       "\n",
       "    .dataframe tbody tr th {\n",
       "        vertical-align: top;\n",
       "    }\n",
       "\n",
       "    .dataframe thead th {\n",
       "        text-align: right;\n",
       "    }\n",
       "</style>\n",
       "<table border=\"1\" class=\"dataframe\">\n",
       "  <thead>\n",
       "    <tr style=\"text-align: right;\">\n",
       "      <th></th>\n",
       "      <th>Pais</th>\n",
       "      <th>Felicidad</th>\n",
       "      <th>GDP</th>\n",
       "    </tr>\n",
       "  </thead>\n",
       "  <tbody>\n",
       "    <tr>\n",
       "      <th>0</th>\n",
       "      <td>Finland</td>\n",
       "      <td>7.8210</td>\n",
       "      <td>2.718370e+11</td>\n",
       "    </tr>\n",
       "    <tr>\n",
       "      <th>1</th>\n",
       "      <td>Denmark</td>\n",
       "      <td>7.6362</td>\n",
       "      <td>3.560850e+11</td>\n",
       "    </tr>\n",
       "    <tr>\n",
       "      <th>2</th>\n",
       "      <td>Iceland</td>\n",
       "      <td>7.5575</td>\n",
       "      <td>2.171808e+10</td>\n",
       "    </tr>\n",
       "    <tr>\n",
       "      <th>3</th>\n",
       "      <td>Switzerland</td>\n",
       "      <td>7.5116</td>\n",
       "      <td>7.522480e+11</td>\n",
       "    </tr>\n",
       "    <tr>\n",
       "      <th>4</th>\n",
       "      <td>Netherlands</td>\n",
       "      <td>7.4149</td>\n",
       "      <td>9.138650e+11</td>\n",
       "    </tr>\n",
       "    <tr>\n",
       "      <th>5</th>\n",
       "      <td>Luxembourg</td>\n",
       "      <td>7.4040</td>\n",
       "      <td>7.335313e+10</td>\n",
       "    </tr>\n",
       "    <tr>\n",
       "      <th>6</th>\n",
       "      <td>Sweden</td>\n",
       "      <td>7.3843</td>\n",
       "      <td>5.414870e+11</td>\n",
       "    </tr>\n",
       "    <tr>\n",
       "      <th>7</th>\n",
       "      <td>Norway</td>\n",
       "      <td>7.3651</td>\n",
       "      <td>3.621980e+11</td>\n",
       "    </tr>\n",
       "    <tr>\n",
       "      <th>8</th>\n",
       "      <td>Israel</td>\n",
       "      <td>7.3638</td>\n",
       "      <td>4.071010e+11</td>\n",
       "    </tr>\n",
       "    <tr>\n",
       "      <th>9</th>\n",
       "      <td>New Zealand</td>\n",
       "      <td>7.1998</td>\n",
       "      <td>2.117350e+11</td>\n",
       "    </tr>\n",
       "  </tbody>\n",
       "</table>\n",
       "</div>"
      ],
      "text/plain": [
       "          Pais  Felicidad           GDP\n",
       "0      Finland     7.8210  2.718370e+11\n",
       "1      Denmark     7.6362  3.560850e+11\n",
       "2      Iceland     7.5575  2.171808e+10\n",
       "3  Switzerland     7.5116  7.522480e+11\n",
       "4  Netherlands     7.4149  9.138650e+11\n",
       "5   Luxembourg     7.4040  7.335313e+10\n",
       "6       Sweden     7.3843  5.414870e+11\n",
       "7       Norway     7.3651  3.621980e+11\n",
       "8       Israel     7.3638  4.071010e+11\n",
       "9  New Zealand     7.1998  2.117350e+11"
      ]
     },
     "execution_count": 62,
     "metadata": {},
     "output_type": "execute_result"
    }
   ],
   "source": [
    "import pandas as pd\n",
    "data = pd.read_csv(\"A1.2 Felicidad y GDP.csv\")\n",
    "data.sort_values(by = \"Felicidad\", ascending = True)\n",
    "data.head(10)"
   ]
  },
  {
   "cell_type": "markdown",
   "id": "fb62deee-b9e7-47b1-8f70-5aa4bb455178",
   "metadata": {},
   "source": [
    "Despues, con ayuda de `numpy` asignamos valores a nuestra X y Y, donde X es el logaritmo base diez del `Gross Domestic Product (GDP)` y nuestra Y es la `Felicidad`. Ña razon por la que nuestro GDP esta expresado en logaritmo base 10, es por que al trabajar con datos tan grandes, es mas comun encontrar asociaciones con el propio logaritmos que con la variable pura."
   ]
  },
  {
   "cell_type": "code",
   "execution_count": 36,
   "id": "5699ea8e-6469-4bb8-ba35-133c914a48cf",
   "metadata": {},
   "outputs": [],
   "source": [
    "import numpy as np\n",
    "x = np.log10(data.GDP)\n",
    "y = data.Felicidad"
   ]
  },
  {
   "attachments": {},
   "cell_type": "markdown",
   "id": "4f3876fd-1d2e-453e-8033-14e94fb3bbde",
   "metadata": {},
   "source": [
    "Ahora para caluclar los valores optimos de los coeficientes del modelo de regresion lineal simple.E mpezamos buscando `X barra`, que representa el promedio de todos los valores de X que tenemos, tambien a la `Y barra` que asi mismo, represneta el promedio de todos los valores pero para Y. Con estos datos calculados, se busca tener el valor de nuestra `B1 con gorro`, que representa la pendiente (la relacion que tiene nuestra variable Y con nuestra X, tambien se puede decir que es la `m` de la ecuacion `y = mx + b`) y `B0 con gorro` que representa el valor de Y cuando X es igual a cero."
   ]
  },
  {
   "cell_type": "code",
   "execution_count": 34,
   "id": "b84c5226-b6e8-4b97-a6c3-24afd4d928cd",
   "metadata": {},
   "outputs": [
    {
     "name": "stdout",
     "output_type": "stream",
     "text": [
      "B1 = 0.6281284658810408\n",
      "B0 = -1.3023500570747277\n"
     ]
    }
   ],
   "source": [
    "xBar = np.mean(x)\n",
    "yBar = np.mean(y)\n",
    "\n",
    "B1num = sum((x-xBar)*(y-yBar))\n",
    "B1den = sum((x-xBar)**2)\n",
    "\n",
    "B1 = B1num / B1den\n",
    "B0 = yBar - (B1 * xBar)\n",
    "\n",
    "print(\"B1 =\",B1)\n",
    "print(\"B0 =\",B0)"
   ]
  },
  {
   "cell_type": "markdown",
   "id": "2383c5d6-5aa1-4d91-ad88-ea78f6489f17",
   "metadata": {},
   "source": [
    "Ya con nuestros datos de B1 y B0, ahora podemos graficar esta regresion lineal simple y graficar la felicidad contra el logaritmo base 10 del GDP."
   ]
  },
  {
   "cell_type": "code",
   "execution_count": 63,
   "id": "be17ac0c-01c3-46d5-a1ee-423c40075c74",
   "metadata": {},
   "outputs": [
    {
     "data": {
      "image/png": "[encoded data removed]",
      "text/plain": [
       "<Figure size 640x480 with 1 Axes>"
      ]
     },
     "metadata": {},
     "output_type": "display_data"
    }
   ],
   "source": [
    "%matplotlib inline\n",
    "import matplotlib.pyplot as plt\n",
    "\n",
    "yHat = B0 + B1*x\n",
    "\n",
    "plt.scatter(x, y, alpha = 0.75)\n",
    "plt.plot(x, yHat, c = \"r\", alpha = 0.75)\n",
    "plt.ylabel(\"Felicidad\")\n",
    "plt.xlabel(\"logaritmo base 10 del producto interno bruto (GDP)\")\n",
    "plt.title(\"Relación entre Felicidad y GDP\")\n",
    "plt.show()\n"
   ]
  },
  {
   "cell_type": "markdown",
   "id": "c76d376a-8789-4a96-a40b-5452fab122bf",
   "metadata": {},
   "source": [
    "Ahora calculamos el `Residual Sum of Squares (RSS)`, que de manera sencilla, es para ver que tan cerca estan los puntos del modelo. Para esto calculamos la sumatoria del cuadriados de nuestros errores, que estos son la resta entre la posicion en Y del punto menos la del modelo."
   ]
  },
  {
   "cell_type": "code",
   "execution_count": 56,
   "id": "9fdd0223-1534-48b0-84d5-d5e86ddf962d",
   "metadata": {},
   "outputs": [
    {
     "name": "stdout",
     "output_type": "stream",
     "text": [
      "RSS = 131.3738317732635\n"
     ]
    }
   ],
   "source": [
    "RSS = sum((y - yHat)**2)\n",
    "print(\"RSS =\", RSS)"
   ]
  },
  {
   "cell_type": "markdown",
   "id": "6d3c97db-d558-49a1-b284-b36eeaaf982d",
   "metadata": {},
   "source": [
    "Para saber que tan preciso es mi valor de B1 se calcula ahora el valor del `Standard Error (SE)`. Este es el error que asume que se repite el experimmento repetidas veces y asi ver que tanto puede variar. Posteriormente, para ver si la relacion entre la felicidad y el GDP es significativa calculamos el p valor con la funcion de `t.sf()` de `scipy.stats`. Esto para determinar cual de las hipotesis se acepta o rechaza. La hipotesis nula afirma cuando el valor de B1 = 0, en este caso, GDP no tiene efecto en la felicidad (no hay regresion lineal), caso contrario con la hipotesis alternativa que cuando B1 != 0, GDP si influye en la felicidad. En este caso, al tener un valor de `p` de 3.82×10^−9, un numero menor que 0.05, nos inclina a rechazar la hipotesis nula y podemos decir que GDP tiene un efecto estadísticamente significativo en la felicidad en nuestra población."
   ]
  },
  {
   "cell_type": "code",
   "execution_count": 61,
   "id": "fc3fe8ad-f008-466d-b238-edbb7b5f3408",
   "metadata": {},
   "outputs": [
    {
     "name": "stdout",
     "output_type": "stream",
     "text": [
      "SE = 0.09983378435340727\n",
      "Intervalo:  0.4307393313073311 0.8255176004547504\n",
      "t = 6.291742519320846\n",
      "p = 3.825717831968765e-09\n"
     ]
    }
   ],
   "source": [
    "n =  len(x)\n",
    "SEB1 = np.sqrt((RSS)/((n - 2) * sum((x - xBar)**2)))\n",
    "print(\"SE =\",SEB1)\n",
    "\n",
    "# para determinar si es util o no\n",
    "\n",
    "import scipy.stats as st\n",
    "\n",
    "per = st.t.interval(confidence = 0.95, df = n-2)[1]\n",
    "\n",
    "CIlow = B1 - per*SEB1\n",
    "CIhigh = B1 + per*SEB1\n",
    "\n",
    "print(\"Intervalo: \",CIlow,CIhigh)\n",
    "\n",
    "t = B1 / SEB1\n",
    "p = st.t.sf(abs(t), n - 2)*2\n",
    "\n",
    "print(\"t =\",t)\n",
    "print(\"p =\",p)"
   ]
  },
  {
   "cell_type": "markdown",
   "id": "3a733c36-8601-4880-990e-a81c5be43244",
   "metadata": {},
   "source": [
    "Para evaluar qué tan bien se ajusta nuestro modelo a los datos, se calcula el Residual Standard Error (RSE) y el 𝑅². El RSE nos indica el tamaño promedio del error de predicción que comete el modelo, es decir, qué tanto se desvían los valores reales de los valores estimados. Por otro lado, el 𝑅² mide la proporción de la variación de la variable dependiente que puede explicarse mediante la variable independiente. En este caso, al obtener un valor de 𝑅² = 0.22, significa que el modelo solo logra explicar aproximadamente el 22% de la variabilidad de los datos. Esto indica que nuestro modelo no se ajusta de manera adecuada a la relación entre las variables, por lo que no es un buen predictor en este escenario."
   ]
  },
  {
   "cell_type": "code",
   "execution_count": 58,
   "id": "f746c760-f0f8-4f8b-9f4f-39fc3fb304ca",
   "metadata": {},
   "outputs": [
    {
     "name": "stdout",
     "output_type": "stream",
     "text": [
      "0.9721807858537376\n",
      "0.22166361654970657\n"
     ]
    }
   ],
   "source": [
    "RSE = np.sqrt(RSS/(n-2))\n",
    "print(RSE)\n",
    "\n",
    "TSS = sum((y - yBar)**2)\n",
    "\n",
    "R2 = 1 - (RSS / TSS)\n",
    "print(R2)\n",
    "# R2 representa la variabilidad entre que tanto puedo explicar mi output(Y), con mi input(X)\n",
    "# Los valores de R2 representan este ajuste de mi modelo hacia los datos, entre mas cerca de 1, mas preciso es.\n",
    "# Sin embargo, en este caso, al tener una R2 de 0.22 solo se pueden explicar el 22% de los datos.\n",
    "# Lo que me lleva a la conclusion de que no es un modelo que se ajuste bien a los datos"
   ]
  },
  {
   "cell_type": "markdown",
   "id": "0bdc9ad9-a728-44b6-9bdc-01409e546fcc",
   "metadata": {},
   "source": [
    "Finalmente, al utilizar la función `OLS()` de la librería `statsmodels.api` , se pudo verificar que los resultados obtenidos manualmente coinciden con los que entrega la librería."
   ]
  },
  {
   "cell_type": "code",
   "execution_count": 57,
   "id": "9648c269-b794-4c43-b0b1-c0d55b677ea7",
   "metadata": {},
   "outputs": [
    {
     "name": "stdout",
     "output_type": "stream",
     "text": [
      "                            OLS Regression Results                            \n",
      "==============================================================================\n",
      "Dep. Variable:              Felicidad   R-squared:                       0.222\n",
      "Model:                            OLS   Adj. R-squared:                  0.216\n",
      "Method:                 Least Squares   F-statistic:                     39.59\n",
      "Date:                Sat, 16 Aug 2025   Prob (F-statistic):           3.83e-09\n",
      "Time:                        10:59:39   Log-Likelihood:                -195.09\n",
      "No. Observations:                 141   AIC:                             394.2\n",
      "Df Residuals:                     139   BIC:                             400.1\n",
      "Df Model:                           1                                         \n",
      "Covariance Type:            nonrobust                                         \n",
      "==============================================================================\n",
      "                 coef    std err          t      P>|t|      [0.025      0.975]\n",
      "------------------------------------------------------------------------------\n",
      "const         -1.3024      1.094     -1.191      0.236      -3.465       0.860\n",
      "GDP            0.6281      0.100      6.292      0.000       0.431       0.826\n",
      "==============================================================================\n",
      "Omnibus:                        2.648   Durbin-Watson:                   0.455\n",
      "Prob(Omnibus):                  0.266   Jarque-Bera (JB):                2.523\n",
      "Skew:                          -0.326   Prob(JB):                        0.283\n",
      "Kurtosis:                       2.944   Cond. No.                         148.\n",
      "==============================================================================\n",
      "\n",
      "Notes:\n",
      "[1] Standard Errors assume that the covariance matrix of the errors is correctly specified.\n"
     ]
    }
   ],
   "source": [
    "import statsmodels.api as sm\n",
    "\n",
    "model = sm.OLS(y,sm.add_constant(x))\n",
    "\n",
    "results = model.fit()\n",
    "\n",
    "print(results.summary())"
   ]
  }
 ],
 "metadata": {
  "kernelspec": {
   "display_name": "Python [conda env:base] *",
   "language": "python",
   "name": "conda-base-py"
  },
  "language_info": {
   "codemirror_mode": {
    "name": "ipython",
    "version": 3
   },
   "file_extension": ".py",
   "mimetype": "text/x-python",
   "name": "python",
   "nbconvert_exporter": "python",
   "pygments_lexer": "ipython3",
   "version": "3.13.5"
  }
 },
 "nbformat": 4,
 "nbformat_minor": 5
}
